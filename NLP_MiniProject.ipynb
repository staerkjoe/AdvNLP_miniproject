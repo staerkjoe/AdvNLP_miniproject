{
  "nbformat": 4,
  "nbformat_minor": 0,
  "metadata": {
    "colab": {
      "provenance": [],
      "gpuType": "T4",
      "authorship_tag": "ABX9TyNvk2HkIX3UgIwS0ZsFHYg+",
      "include_colab_link": true
    },
    "kernelspec": {
      "name": "python3",
      "display_name": "Python 3"
    },
    "language_info": {
      "name": "python"
    },
    "accelerator": "GPU"
  },
  "cells": [
    {
      "cell_type": "markdown",
      "metadata": {
        "id": "view-in-github",
        "colab_type": "text"
      },
      "source": [
        "<a href=\"https://colab.research.google.com/github/staerkjoe/AdvNLP_miniproject/blob/main/NLP_MiniProject.ipynb\" target=\"_parent\"><img src=\"https://colab.research.google.com/assets/colab-badge.svg\" alt=\"Open In Colab\"/></a>"
      ]
    },
    {
      "cell_type": "code",
      "source": [
        "from google.colab import drive\n",
        "drive.mount('/content/drive')"
      ],
      "metadata": {
        "id": "G27p9RFqnJcw"
      },
      "execution_count": null,
      "outputs": []
    },
    {
      "cell_type": "code",
      "execution_count": null,
      "metadata": {
        "id": "F13QrUvvmABx"
      },
      "outputs": [],
      "source": [
        "!pip install torch torchvision transformers ftfy regex tqdm\n",
        "!pip install accelerate\n",
        "!pip install pytorch-pretrained-biggan"
      ]
    },
    {
      "cell_type": "markdown",
      "source": [
        "## CLIP - Load and Test"
      ],
      "metadata": {
        "id": "LaVgDHRimJS2"
      }
    },
    {
      "cell_type": "code",
      "source": [
        "from transformers import CLIPProcessor, CLIPModel\n",
        "\n",
        "# Load pretrained CLIP (text + image encoders)\n",
        "clip_model = CLIPModel.from_pretrained(\"openai/clip-vit-base-patch32\")\n",
        "clip_processor = CLIPProcessor.from_pretrained(\"openai/clip-vit-base-patch32\")\n",
        "\n",
        "device = \"cuda\"\n",
        "clip_model = clip_model.to(device)\n"
      ],
      "metadata": {
        "id": "I6xDLDKlmErg"
      },
      "execution_count": null,
      "outputs": []
    },
    {
      "cell_type": "code",
      "source": [
        "from PIL import Image\n",
        "\n",
        "text = [\"a red apple\", \"a blue car\"]\n",
        "image = [Image.open(\"/content/drive/MyDrive/Colab Notebooks/NLP/MiniProject/Sample Pictures/redapple.jpg\"), Image.open(\"/content/drive/MyDrive/Colab Notebooks/NLP/MiniProject/Sample Pictures/airplane.jpg\")]\n",
        "\n",
        "inputs = clip_processor(text=text, images=image, return_tensors=\"pt\", padding=True).to(device)\n",
        "outputs = clip_model(**inputs)\n",
        "similarity = outputs.logits_per_text.softmax(dim=-1)\n"
      ],
      "metadata": {
        "id": "16N13uSxmIxW"
      },
      "execution_count": null,
      "outputs": []
    },
    {
      "cell_type": "code",
      "source": [
        "print(similarity)"
      ],
      "metadata": {
        "id": "M3s2FxrCo3Tk"
      },
      "execution_count": null,
      "outputs": []
    },
    {
      "cell_type": "markdown",
      "source": [
        "## GAN - Load and Test"
      ],
      "metadata": {
        "id": "diQTvIs4mLhV"
      }
    },
    {
      "cell_type": "code",
      "source": [
        "from pytorch_pretrained_biggan import BigGAN, truncated_noise_sample\n",
        "import torch\n",
        "\n",
        "device = \"cuda\" if torch.cuda.is_available() else \"cpu\"\n",
        "\n",
        "# Load pretrained model\n",
        "biggan = BigGAN.from_pretrained('biggan-deep-128').to(device)\n",
        "biggan.eval()\n"
      ],
      "metadata": {
        "id": "sOb4rdtTmNIS"
      },
      "execution_count": null,
      "outputs": []
    },
    {
      "cell_type": "code",
      "source": [
        "# BigGAN takes: noise (z), class vector (one-hot), truncation\n",
        "z = torch.randn(1, 128, device=device)        # latent noise\n",
        "class_vector = torch.zeros(1, 1000, device=device)  # \"generic\" input\n",
        "truncation = 0.4\n",
        "\n",
        "with torch.no_grad():\n",
        "    output = biggan(z, class_vector, truncation)\n"
      ],
      "metadata": {
        "id": "8rcSYvvOmQHl"
      },
      "execution_count": null,
      "outputs": []
    },
    {
      "cell_type": "code",
      "source": [
        "from torchvision.utils import save_image\n",
        "save_image((output + 1) / 2, \"/content/drive/MyDrive/Colab Notebooks/NLP/MiniProject/Sample Pictures/GANgenerated.jpg\")  # normalize to [0,1]\n"
      ],
      "metadata": {
        "id": "mcKiOLLimRWS"
      },
      "execution_count": null,
      "outputs": []
    },
    {
      "cell_type": "markdown",
      "source": [
        "## optimizing one latent vector z per text prompt"
      ],
      "metadata": {
        "id": "jIXvVsU8uhl0"
      }
    },
    {
      "cell_type": "code",
      "source": [
        "def generate_image(z, truncation=0.4):\n",
        "    class_vector = torch.zeros(1, 1000).to(device)  # generic class\n",
        "    with torch.no_grad():\n",
        "        out = biggan(z, class_vector, truncation)\n",
        "    return (out + 1) / 2  # scale from [-1,1] → [0,1]"
      ],
      "metadata": {
        "id": "Q5OnwL3BujBz"
      },
      "execution_count": null,
      "outputs": []
    },
    {
      "cell_type": "code",
      "source": [
        "import torch.nn.functional as F\n",
        "from PIL import Image\n",
        "from tqdm import tqdm\n",
        "\n",
        "def optimize_latent_for(prompt, steps=300, lr=0.07, truncation=0.4, seed=None):\n",
        "    if seed: torch.manual_seed(seed)\n",
        "\n",
        "    # Encode text prompt once\n",
        "    text_tokens = clip_processor(text=[prompt], return_tensors=\"pt\").to(device)\n",
        "    with torch.no_grad():\n",
        "        text_features = clip_model.get_text_features(**text_tokens).detach().clone()\n",
        "\n",
        "    # Initialize random latent vector z\n",
        "    z = torch.randn(1, 128, device=device, requires_grad=True)\n",
        "    optimizer = torch.optim.Adam([z], lr=lr)\n",
        "\n",
        "    # Optimization loop\n",
        "    pbar = tqdm(range(steps), desc=f\"Optimizing for: '{prompt}'\")\n",
        "    for step in pbar:\n",
        "        optimizer.zero_grad()\n",
        "        img = biggan(z, torch.zeros(1, 1000).to(device), truncation)\n",
        "        img_norm = (img + 1) / 2\n",
        "\n",
        "        # Resize to CLIP expected input\n",
        "        img_pil = torch.clamp(img_norm, 0, 1)\n",
        "        img_clip = torch.nn.functional.interpolate(img_pil, size=(224,224), mode='bilinear')\n",
        "\n",
        "        # Preprocess the image for CLIP\n",
        "        img_processed = clip_processor(images=img_clip, return_tensors=\"pt\").to(device)\n",
        "\n",
        "        img_features = clip_model.get_image_features(**img_processed)\n",
        "        loss = 1 - F.cosine_similarity(img_features, text_features).mean()\n",
        "\n",
        "        loss.backward()\n",
        "        optimizer.step()\n",
        "        pbar.set_postfix({\"loss\": loss.item()})\n",
        "\n",
        "    final_img = generate_image(z, truncation)\n",
        "    return final_img.detach()"
      ],
      "metadata": {
        "id": "yOyixl80uowU"
      },
      "execution_count": null,
      "outputs": []
    },
    {
      "cell_type": "code",
      "source": [
        "prompts = [\n",
        "    \"a red apple on a table\",\n",
        "    \"a blue car in the snow\",\n",
        "    \"a yellow bird on a branch\",\n",
        "]\n",
        "\n",
        "for text in prompts:\n",
        "    result = optimize_latent_for(text, steps=250)\n",
        "    filename = f\"{text.replace(' ', '_')}.png\"\n",
        "    save_image(result, filename)\n",
        "    print(f\"Saved: {filename}\")\n"
      ],
      "metadata": {
        "id": "mFvQGg1ouqRn"
      },
      "execution_count": null,
      "outputs": []
    },
    {
      "cell_type": "code",
      "source": [
        "import matplotlib.pyplot as plt\n",
        "from torchvision.io import read_image\n",
        "\n",
        "for text in prompts:\n",
        "    img = read_image(f\"{text.replace(' ', '_')}.png\").permute(1,2,0)\n",
        "    plt.imshow(img.cpu())\n",
        "    plt.title(text)\n",
        "    plt.axis('off')\n",
        "    plt.show()\n"
      ],
      "metadata": {
        "id": "XIoYzcxUurn0"
      },
      "execution_count": null,
      "outputs": []
    }
  ]
}